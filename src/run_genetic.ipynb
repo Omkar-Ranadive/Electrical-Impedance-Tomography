{
 "cells": [
  {
   "cell_type": "code",
   "execution_count": 8,
   "metadata": {},
   "outputs": [],
   "source": [
    "from genetic_algo import Genetic\n",
    "from constants import DATA_PATH, EXP_PATH\n",
    "import time \n",
    "import utils_math\n",
    "import scipy.io as sio\n"
   ]
  },
  {
   "cell_type": "code",
   "execution_count": 9,
   "metadata": {},
   "outputs": [],
   "source": [
    "# Load the data \n",
    "# data = sio.loadmat(DATA_PATH / '9ContactsMatrix.mat')\n",
    "data = sio.loadmat(DATA_PATH / 'OptimizationMatrices' / '8contacts_28polys.mat')\n",
    "arr = data['JGQ']\n",
    "\n",
    "# Scale/normalize the data \n",
    "arr = utils_math.scale_data(arr, technique='simple')\n",
    "num_entries = 20\n"
   ]
  },
  {
   "cell_type": "code",
   "execution_count": 4,
   "metadata": {},
   "outputs": [
    {
     "name": "stdout",
     "output_type": "stream",
     "text": [
      "Genetic algorithm approach\n",
      "{'arr': array([[ 1.10397665e+00,  8.29205360e-01,  3.67892894e-01, ...,\n",
      "         4.10710797e-02, -1.33032491e-02, -2.56683561e-01],\n",
      "       [ 1.70312199e+00,  1.09513116e+00,  3.74495873e-01, ...,\n",
      "         4.27612926e-02, -4.89232316e-03, -2.08623634e-01],\n",
      "       [ 2.20749133e+00,  1.09513098e+00,  3.74495885e-01, ...,\n",
      "         7.53412502e-02,  9.36549155e-02,  4.24714008e-02],\n",
      "       ...,\n",
      "       [-5.61100664e+00,  7.36644953e-01,  7.76022989e-01, ...,\n",
      "         7.80629819e-02,  5.14839322e-04, -1.68339529e+00],\n",
      "       [-2.80437072e+00,  1.03133554e+00, -2.43133064e-01, ...,\n",
      "         3.70863344e-02,  8.56731601e-02, -8.05986529e-01],\n",
      "       [-3.90674011e+00,  1.35704326e+00,  6.02074031e-01, ...,\n",
      "        -1.89054000e-04,  7.27432028e-02, -4.59132874e-01]]), 'num_generations': 500, 'population_size': 5000, 'num_parents': 200, 'mutation_rate': 0.2, 'num_entries': 20, 'adaptive_mutation': False, 'improvement_check': 50, 'random_children_rate': 0.3, 'direct_mutants_rate': 0.05, 'print_every': 100}\n",
      "Running for generation: 0\n",
      "Best Volume till now: -inf\n",
      "Selected Indices: None\n",
      "Mutation Rate: 0.2\n",
      "****************************************************************************************************\n",
      "Running for generation: 100\n",
      "Best Volume till now: 0.9532767218152856\n",
      "Selected Indices: [ 68   0   9  15  24  43  57  65  76  80  91  95 108 120 112 143 173 179\n",
      " 194 206]\n",
      "Mutation Rate: 0.2\n",
      "****************************************************************************************************\n",
      "Running for generation: 200\n",
      "Best Volume till now: 0.9532767218152856\n",
      "Selected Indices: [ 68   0   9  15  24  43  57  65  76  80  91  95 108 120 112 143 173 179\n",
      " 194 206]\n",
      "Mutation Rate: 0.2\n",
      "****************************************************************************************************\n",
      "Running for generation: 300\n",
      "Best Volume till now: 0.9532767218152856\n",
      "Selected Indices: [ 68   0   9  15  24  43  57  65  76  80  91  95 108 120 112 143 173 179\n",
      " 194 206]\n",
      "Mutation Rate: 0.2\n",
      "****************************************************************************************************\n",
      "Running for generation: 400\n",
      "Best Volume till now: 0.9532767218152856\n",
      "Selected Indices: [ 68   0   9  15  24  43  57  65  76  80  91  95 108 120 112 143 173 179\n",
      " 194 206]\n",
      "Mutation Rate: 0.2\n",
      "****************************************************************************************************\n",
      "Best Generation: 39\n",
      "0.9532767218152856\n",
      "[ 68   0   9  15  24  43  57  65  76  80  91  95 108 120 112 143 173 179\n",
      " 194 206]\n",
      "Execution time: 207.53814053535461\n"
     ]
    }
   ],
   "source": [
    "start = time.time()\n",
    "print(\"Genetic algorithm approach\")\n",
    "gen_dict = {'arr': arr, 'num_generations': 500, 'population_size': 5000, 'num_parents': 200, \n",
    "            'mutation_rate': 0.2, 'num_entries': num_entries, 'adaptive_mutation': False, \n",
    "            'improvement_check': 50, 'random_children_rate': 0.3, \n",
    "            'direct_mutants_rate': 0.05, 'print_every': 100}\n",
    "print(gen_dict)\n",
    "genObj = Genetic(**gen_dict)\n",
    "best_results = genObj.run_genetic_simulation() \n",
    "print(f\"Best Generation: {best_results['best_generation']}\")\n",
    "print(best_results['best_score'])\n",
    "print(best_results['best_indices'])\n",
    "end = time.time()\n",
    "print(f\"Execution time: {end-start}\")"
   ]
  },
  {
   "cell_type": "code",
   "execution_count": 10,
   "metadata": {},
   "outputs": [
    {
     "name": "stdout",
     "output_type": "stream",
     "text": [
      "Genetic algorithm approach with numba\n",
      "{'arr': array([[ 1.10397665e+00,  8.29205360e-01,  3.67892894e-01, ...,\n",
      "         4.10710797e-02, -1.33032491e-02, -2.56683561e-01],\n",
      "       [ 1.70312199e+00,  1.09513116e+00,  3.74495873e-01, ...,\n",
      "         4.27612926e-02, -4.89232316e-03, -2.08623634e-01],\n",
      "       [ 2.20749133e+00,  1.09513098e+00,  3.74495885e-01, ...,\n",
      "         7.53412502e-02,  9.36549155e-02,  4.24714008e-02],\n",
      "       ...,\n",
      "       [-5.61100664e+00,  7.36644953e-01,  7.76022989e-01, ...,\n",
      "         7.80629819e-02,  5.14839322e-04, -1.68339529e+00],\n",
      "       [-2.80437072e+00,  1.03133554e+00, -2.43133064e-01, ...,\n",
      "         3.70863344e-02,  8.56731601e-02, -8.05986529e-01],\n",
      "       [-3.90674011e+00,  1.35704326e+00,  6.02074031e-01, ...,\n",
      "        -1.89054000e-04,  7.27432028e-02, -4.59132874e-01]]), 'num_generations': 500, 'population_size': 5000, 'num_parents': 200, 'mutation_rate': 0.2, 'num_entries': 20, 'adaptive_mutation': False, 'improvement_check': 50, 'random_children_rate': 0.3, 'direct_mutants_rate': 0.05, 'print_every': 100}\n",
      "Running for generation: 0\n",
      "Best Volume till now: -inf\n",
      "Selected Indices: None\n",
      "Mutation Rate: 0.2\n",
      "****************************************************************************************************\n"
     ]
    },
    {
     "ename": "TypingError",
     "evalue": "Failed in nopython mode pipeline (step: nopython frontend)\n\u001b[1m\u001b[1mnon-precise type pyobject\u001b[0m\n\u001b[0m\u001b[1mDuring: typing of argument at w:\\Projects\\NU_Earth\\Electrical_Impedance_Tomography\\EIT\\src\\genetic_algo.py (79)\u001b[0m\n\u001b[1m\nFile \"genetic_algo.py\", line 79:\u001b[0m\n\u001b[1m    def _cal_vol(arr, dth_root=True): \n        <source elided>\n\n\u001b[1m    @jit(nopython=True)\n\u001b[0m    \u001b[1m^\u001b[0m\u001b[0m \n\nThis error may have been caused by the following argument(s):\n- argument 0: \u001b[1mCannot determine Numba type of <class 'genetic_algo.Genetic'>\u001b[0m \n\nThis error may have been caused by the following argument(s):\n- argument 0: \u001b[1mCannot determine Numba type of <class 'genetic_algo.Genetic'>\u001b[0m \n\nThis error may have been caused by the following argument(s):\n- argument 0: \u001b[1mCannot determine Numba type of <class 'genetic_algo.Genetic'>\u001b[0m \n\nThis error may have been caused by the following argument(s):\n- argument 0: \u001b[1mCannot determine Numba type of <class 'genetic_algo.Genetic'>\u001b[0m\n",
     "output_type": "error",
     "traceback": [
      "\u001b[1;31m---------------------------------------------------------------------------\u001b[0m",
      "\u001b[1;31mTypingError\u001b[0m                               Traceback (most recent call last)",
      "Cell \u001b[1;32mIn[10], line 9\u001b[0m\n\u001b[0;32m      7\u001b[0m \u001b[38;5;28mprint\u001b[39m(gen_dict)\n\u001b[0;32m      8\u001b[0m genObj \u001b[38;5;241m=\u001b[39m Genetic(\u001b[38;5;241m*\u001b[39m\u001b[38;5;241m*\u001b[39mgen_dict)\n\u001b[1;32m----> 9\u001b[0m best_results \u001b[38;5;241m=\u001b[39m \u001b[43mgenObj\u001b[49m\u001b[38;5;241;43m.\u001b[39;49m\u001b[43mrun_genetic_simulation\u001b[49m\u001b[43m(\u001b[49m\u001b[43m)\u001b[49m \n\u001b[0;32m     10\u001b[0m \u001b[38;5;28mprint\u001b[39m(\u001b[38;5;124mf\u001b[39m\u001b[38;5;124m\"\u001b[39m\u001b[38;5;124mBest Generation: \u001b[39m\u001b[38;5;132;01m{\u001b[39;00mbest_results[\u001b[38;5;124m'\u001b[39m\u001b[38;5;124mbest_generation\u001b[39m\u001b[38;5;124m'\u001b[39m]\u001b[38;5;132;01m}\u001b[39;00m\u001b[38;5;124m\"\u001b[39m)\n\u001b[0;32m     11\u001b[0m \u001b[38;5;28mprint\u001b[39m(best_results[\u001b[38;5;124m'\u001b[39m\u001b[38;5;124mbest_score\u001b[39m\u001b[38;5;124m'\u001b[39m])\n",
      "File \u001b[1;32mw:\\Projects\\NU_Earth\\Electrical_Impedance_Tomography\\EIT\\src\\genetic_algo.py:195\u001b[0m, in \u001b[0;36mGenetic.run_genetic_simulation\u001b[1;34m(self)\u001b[0m\n\u001b[0;32m    192\u001b[0m     \u001b[38;5;28mprint\u001b[39m(\u001b[38;5;124mf\u001b[39m\u001b[38;5;124m\"\u001b[39m\u001b[38;5;124mMutation Rate: \u001b[39m\u001b[38;5;132;01m{\u001b[39;00m\u001b[38;5;28mself\u001b[39m\u001b[38;5;241m.\u001b[39mmutation_rate\u001b[38;5;132;01m}\u001b[39;00m\u001b[38;5;124m\"\u001b[39m)\n\u001b[0;32m    193\u001b[0m     \u001b[38;5;28mprint\u001b[39m(\u001b[38;5;124m\"\u001b[39m\u001b[38;5;124m*\u001b[39m\u001b[38;5;124m\"\u001b[39m\u001b[38;5;241m*\u001b[39m\u001b[38;5;241m100\u001b[39m)\n\u001b[1;32m--> 195\u001b[0m fitness_scores \u001b[38;5;241m=\u001b[39m \u001b[38;5;28;43mself\u001b[39;49m\u001b[38;5;241;43m.\u001b[39;49m\u001b[43m_fitness\u001b[49m\u001b[43m(\u001b[49m\u001b[43m)\u001b[49m\n\u001b[0;32m    196\u001b[0m selected_parents \u001b[38;5;241m=\u001b[39m \u001b[38;5;28mself\u001b[39m\u001b[38;5;241m.\u001b[39m_select_parents(fitness_scores)\n\u001b[0;32m    198\u001b[0m max_fitness \u001b[38;5;241m=\u001b[39m \u001b[38;5;28mself\u001b[39m\u001b[38;5;241m.\u001b[39m_cal_vol(\u001b[38;5;28mself\u001b[39m\u001b[38;5;241m.\u001b[39marr[selected_parents[\u001b[38;5;241m-\u001b[39m\u001b[38;5;241m1\u001b[39m]])\n",
      "File \u001b[1;32mc:\\Users\\omkar\\miniconda3\\envs\\EIT\\lib\\site-packages\\numba\\core\\dispatcher.py:468\u001b[0m, in \u001b[0;36m_DispatcherBase._compile_for_args\u001b[1;34m(self, *args, **kws)\u001b[0m\n\u001b[0;32m    464\u001b[0m         msg \u001b[38;5;241m=\u001b[39m (\u001b[38;5;124mf\u001b[39m\u001b[38;5;124m\"\u001b[39m\u001b[38;5;132;01m{\u001b[39;00m\u001b[38;5;28mstr\u001b[39m(e)\u001b[38;5;241m.\u001b[39mrstrip()\u001b[38;5;132;01m}\u001b[39;00m\u001b[38;5;124m \u001b[39m\u001b[38;5;130;01m\\n\u001b[39;00m\u001b[38;5;130;01m\\n\u001b[39;00m\u001b[38;5;124mThis error may have been caused \u001b[39m\u001b[38;5;124m\"\u001b[39m\n\u001b[0;32m    465\u001b[0m                \u001b[38;5;124mf\u001b[39m\u001b[38;5;124m\"\u001b[39m\u001b[38;5;124mby the following argument(s):\u001b[39m\u001b[38;5;130;01m\\n\u001b[39;00m\u001b[38;5;132;01m{\u001b[39;00margs_str\u001b[38;5;132;01m}\u001b[39;00m\u001b[38;5;130;01m\\n\u001b[39;00m\u001b[38;5;124m\"\u001b[39m)\n\u001b[0;32m    466\u001b[0m         e\u001b[38;5;241m.\u001b[39mpatch_message(msg)\n\u001b[1;32m--> 468\u001b[0m     \u001b[43merror_rewrite\u001b[49m\u001b[43m(\u001b[49m\u001b[43me\u001b[49m\u001b[43m,\u001b[49m\u001b[43m \u001b[49m\u001b[38;5;124;43m'\u001b[39;49m\u001b[38;5;124;43mtyping\u001b[39;49m\u001b[38;5;124;43m'\u001b[39;49m\u001b[43m)\u001b[49m\n\u001b[0;32m    469\u001b[0m \u001b[38;5;28;01mexcept\u001b[39;00m errors\u001b[38;5;241m.\u001b[39mUnsupportedError \u001b[38;5;28;01mas\u001b[39;00m e:\n\u001b[0;32m    470\u001b[0m     \u001b[38;5;66;03m# Something unsupported is present in the user code, add help info\u001b[39;00m\n\u001b[0;32m    471\u001b[0m     error_rewrite(e, \u001b[38;5;124m'\u001b[39m\u001b[38;5;124munsupported_error\u001b[39m\u001b[38;5;124m'\u001b[39m)\n",
      "File \u001b[1;32mc:\\Users\\omkar\\miniconda3\\envs\\EIT\\lib\\site-packages\\numba\\core\\dispatcher.py:409\u001b[0m, in \u001b[0;36m_DispatcherBase._compile_for_args.<locals>.error_rewrite\u001b[1;34m(e, issue_type)\u001b[0m\n\u001b[0;32m    407\u001b[0m     \u001b[38;5;28;01mraise\u001b[39;00m e\n\u001b[0;32m    408\u001b[0m \u001b[38;5;28;01melse\u001b[39;00m:\n\u001b[1;32m--> 409\u001b[0m     \u001b[38;5;28;01mraise\u001b[39;00m e\u001b[38;5;241m.\u001b[39mwith_traceback(\u001b[38;5;28;01mNone\u001b[39;00m)\n",
      "\u001b[1;31mTypingError\u001b[0m: Failed in nopython mode pipeline (step: nopython frontend)\n\u001b[1m\u001b[1mnon-precise type pyobject\u001b[0m\n\u001b[0m\u001b[1mDuring: typing of argument at w:\\Projects\\NU_Earth\\Electrical_Impedance_Tomography\\EIT\\src\\genetic_algo.py (79)\u001b[0m\n\u001b[1m\nFile \"genetic_algo.py\", line 79:\u001b[0m\n\u001b[1m    def _cal_vol(arr, dth_root=True): \n        <source elided>\n\n\u001b[1m    @jit(nopython=True)\n\u001b[0m    \u001b[1m^\u001b[0m\u001b[0m \n\nThis error may have been caused by the following argument(s):\n- argument 0: \u001b[1mCannot determine Numba type of <class 'genetic_algo.Genetic'>\u001b[0m \n\nThis error may have been caused by the following argument(s):\n- argument 0: \u001b[1mCannot determine Numba type of <class 'genetic_algo.Genetic'>\u001b[0m \n\nThis error may have been caused by the following argument(s):\n- argument 0: \u001b[1mCannot determine Numba type of <class 'genetic_algo.Genetic'>\u001b[0m \n\nThis error may have been caused by the following argument(s):\n- argument 0: \u001b[1mCannot determine Numba type of <class 'genetic_algo.Genetic'>\u001b[0m\n"
     ]
    }
   ],
   "source": [
    "start = time.time()\n",
    "print(\"Genetic algorithm approach with numba\")\n",
    "gen_dict = {'arr': arr, 'num_generations': 500, 'population_size': 5000, 'num_parents': 200, \n",
    "            'mutation_rate': 0.2, 'num_entries': num_entries, 'adaptive_mutation': False, \n",
    "            'improvement_check': 50, 'random_children_rate': 0.3, \n",
    "            'direct_mutants_rate': 0.05, 'print_every': 100}\n",
    "print(gen_dict)\n",
    "genObj = Genetic(**gen_dict)\n",
    "best_results = genObj.run_genetic_simulation() \n",
    "print(f\"Best Generation: {best_results['best_generation']}\")\n",
    "print(best_results['best_score'])\n",
    "print(best_results['best_indices'])\n",
    "end = time.time()\n",
    "print(f\"Execution time: {end-start}\")"
   ]
  },
  {
   "cell_type": "code",
   "execution_count": null,
   "metadata": {},
   "outputs": [],
   "source": []
  }
 ],
 "metadata": {
  "kernelspec": {
   "display_name": "EIT",
   "language": "python",
   "name": "python3"
  },
  "language_info": {
   "codemirror_mode": {
    "name": "ipython",
    "version": 3
   },
   "file_extension": ".py",
   "mimetype": "text/x-python",
   "name": "python",
   "nbconvert_exporter": "python",
   "pygments_lexer": "ipython3",
   "version": "3.10.13"
  }
 },
 "nbformat": 4,
 "nbformat_minor": 2
}
